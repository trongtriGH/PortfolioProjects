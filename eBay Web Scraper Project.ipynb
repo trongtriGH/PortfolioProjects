{
 "cells": [
  {
   "cell_type": "markdown",
   "metadata": {},
   "source": [
    "# eBay Web Scraper Project"
   ]
  },
  {
   "cell_type": "code",
   "execution_count": 3,
   "metadata": {},
   "outputs": [],
   "source": [
    "# Import libraries\n",
    "\n",
    "from bs4 import BeautifulSoup\n",
    "import requests\n",
    "import time\n",
    "import datetime\n",
    "\n",
    "import smtplib"
   ]
  },
  {
   "cell_type": "code",
   "execution_count": null,
   "metadata": {},
   "outputs": [],
   "source": [
    "# Connect to website\n",
    "\n",
    "URL = \"https://www.ebay.com/itm/266805389264?epid=16029037217&itmmeta=01HXH7S2PBR7NB1M89MYBRXYVB&hash=item3e1ed727d0:g:5HIAAOSw6S9mPWru&itmprp=enc%3AAQAJAAAA4KJTmwFSkA9wDnpBB810o%2F6EoXax8PHdqBaDiPC0QBAuf6HZqK7ZXdZ26x6i9Ixl5%2FHq%2BapEuz6%2Bmh3Vu8agb44LtfPohOjUc1bG2zlAxtnCvCQi9BmnMBG0Dff6Z%2BdXXBGbDwogUQS%2BGlgacI%2FUOZEAwfadw2sb5DqIbow7weFb%2F6HWAfl1CAnqQoORpM7%2BqW7GXReCeDA%2FfhTZcOrj6YqHGtOHX1%2Fk2W2U3%2BAuXwDMXLvExYb%2FgR%2BMCr9%2BDras%2FR9JAoTjM9aazOBrYqgu%2FfwpyYyzvg7%2Bj8TambUq4DZb%7Ctkp%3ABFBMyKvkp-xj\"\n",
    "\n",
    "headers = {\"User-Agent\": \"Mozilla/5.0 (Windows NT 10.0; Win64; x64) AppleWebKit/537.36 (KHTML, like Gecko) Chrome/124.0.0.0 Safari/537.36\"}\n",
    "\n",
    "page = requests.get(URL, headers=headers)\n",
    "\n",
    "soup1 = BeautifulSoup(page.content, \"html.parser\")\n",
    "\n",
    "soup2 = BeautifulSoup(soup1.prettify(), \"html.parser\")\n",
    "\n",
    "print(soup2)"
   ]
  },
  {
   "cell_type": "code",
   "execution_count": 5,
   "metadata": {},
   "outputs": [
    {
     "name": "stdout",
     "output_type": "stream",
     "text": [
      "Nintendo Switch 32GB Blue/Red Joy-Con Console Authentic PRE INSTALLED SCREEN PRO\n",
      "189.95\n"
     ]
    }
   ],
   "source": [
    "title = soup2.find(class_=\"x-item-title__mainTitle\").get_text(strip=True)\n",
    "\n",
    "price = soup2.find(class_='x-price-primary').get_text(strip=True)\n",
    "price = price.strip()[4:]\n",
    "price = float(price)\n",
    "\n",
    "print(title)\n",
    "print(price)"
   ]
  },
  {
   "cell_type": "code",
   "execution_count": 6,
   "metadata": {},
   "outputs": [
    {
     "name": "stdout",
     "output_type": "stream",
     "text": [
      "2024-05-10\n"
     ]
    }
   ],
   "source": [
    "today = datetime.date.today()\n",
    "\n",
    "print(today)"
   ]
  },
  {
   "cell_type": "code",
   "execution_count": 7,
   "metadata": {},
   "outputs": [],
   "source": [
    "import csv\n",
    "\n",
    "header = ['Title', 'Price', 'Date']\n",
    "data = [title, price, today]\n",
    "\n",
    "# Create CSV and write headers and data into the file\n",
    "\n",
    "#with open('eBayWebScraperDataset.csv', 'w', newline='', encoding='UTF8') as f:\n",
    "    #writer = csv.writer(f)\n",
    "    #writer.writerow(header)\n",
    "    #writer.writerow(data)"
   ]
  },
  {
   "cell_type": "code",
   "execution_count": 8,
   "metadata": {},
   "outputs": [
    {
     "data": {
      "text/html": [
       "<div>\n",
       "<style scoped>\n",
       "    .dataframe tbody tr th:only-of-type {\n",
       "        vertical-align: middle;\n",
       "    }\n",
       "\n",
       "    .dataframe tbody tr th {\n",
       "        vertical-align: top;\n",
       "    }\n",
       "\n",
       "    .dataframe thead th {\n",
       "        text-align: right;\n",
       "    }\n",
       "</style>\n",
       "<table border=\"1\" class=\"dataframe\">\n",
       "  <thead>\n",
       "    <tr style=\"text-align: right;\">\n",
       "      <th></th>\n",
       "      <th>Title</th>\n",
       "      <th>Price</th>\n",
       "      <th>Date</th>\n",
       "    </tr>\n",
       "  </thead>\n",
       "  <tbody>\n",
       "    <tr>\n",
       "      <th>0</th>\n",
       "      <td>Nintendo Switch 32GB Blue/Red Joy-Con Console ...</td>\n",
       "      <td>189.95</td>\n",
       "      <td>2024-05-10</td>\n",
       "    </tr>\n",
       "    <tr>\n",
       "      <th>1</th>\n",
       "      <td>Nintendo Switch 32GB Blue/Red Joy-Con Console ...</td>\n",
       "      <td>189.95</td>\n",
       "      <td>2024-05-10</td>\n",
       "    </tr>\n",
       "    <tr>\n",
       "      <th>2</th>\n",
       "      <td>Nintendo Switch 32GB Blue/Red Joy-Con Console ...</td>\n",
       "      <td>189.95</td>\n",
       "      <td>2024-05-10</td>\n",
       "    </tr>\n",
       "  </tbody>\n",
       "</table>\n",
       "</div>"
      ],
      "text/plain": [
       "                                               Title   Price        Date\n",
       "0  Nintendo Switch 32GB Blue/Red Joy-Con Console ...  189.95  2024-05-10\n",
       "1  Nintendo Switch 32GB Blue/Red Joy-Con Console ...  189.95  2024-05-10\n",
       "2  Nintendo Switch 32GB Blue/Red Joy-Con Console ...  189.95  2024-05-10"
      ]
     },
     "execution_count": 8,
     "metadata": {},
     "output_type": "execute_result"
    }
   ],
   "source": [
    "import pandas as pd\n",
    "\n",
    "df = pd.read_csv(r'C:\\Users\\LAPTOP\\Downloads\\CollegeFolder\\PythonStudy\\eBayWebScraperDataset.csv')\n",
    "\n",
    "df"
   ]
  },
  {
   "cell_type": "code",
   "execution_count": 9,
   "metadata": {},
   "outputs": [],
   "source": [
    "# Now we are appending data to the csv\n",
    "\n",
    "with open('eBayWebScraperDataset.csv', 'a+', newline='', encoding='UTF8') as f:\n",
    "    writer = csv.writer(f)\n",
    "    writer.writerow(data)"
   ]
  },
  {
   "cell_type": "code",
   "execution_count": 10,
   "metadata": {},
   "outputs": [],
   "source": [
    "def send_email():\n",
    "    server = smtplib.SMTP_SSL('smtp.gmail.com', 465)\n",
    "    server.ehlo()\n",
    "    #server.starttls()\n",
    "    server.ehlo()\n",
    "    server.login('nguyentrongtri.hcmus@gmail.com', 'xxxxxxxxxxxxx')\n",
    "    \n",
    "    subject = \"The price for the Nintendo Switch is below 200$! Now is your chance to buy!\"\n",
    "    \n",
    "    body = \"Tri, this is the moment we have been waiting for. Now is your chance to pick up the gaming device of your dreams. Don't mess it up!\"\n",
    "    \n",
    "    msg = f\"Subject: {subject}\\n\\n{body}\"\n",
    "    \n",
    "    server.sendmail(\n",
    "        'nguyentrongtri.hcmus@gmail.com',\n",
    "        msg\n",
    "    )"
   ]
  },
  {
   "cell_type": "code",
   "execution_count": 11,
   "metadata": {},
   "outputs": [],
   "source": [
    "def check_price():\n",
    "    URL = \"https://www.ebay.com/itm/266805389264?epid=16029037217&itmmeta=01HXH7S2PBR7NB1M89MYBRXYVB&hash=item3e1ed727d0:g:5HIAAOSw6S9mPWru&itmprp=enc%3AAQAJAAAA4KJTmwFSkA9wDnpBB810o%2F6EoXax8PHdqBaDiPC0QBAuf6HZqK7ZXdZ26x6i9Ixl5%2FHq%2BapEuz6%2Bmh3Vu8agb44LtfPohOjUc1bG2zlAxtnCvCQi9BmnMBG0Dff6Z%2BdXXBGbDwogUQS%2BGlgacI%2FUOZEAwfadw2sb5DqIbow7weFb%2F6HWAfl1CAnqQoORpM7%2BqW7GXReCeDA%2FfhTZcOrj6YqHGtOHX1%2Fk2W2U3%2BAuXwDMXLvExYb%2FgR%2BMCr9%2BDras%2FR9JAoTjM9aazOBrYqgu%2FfwpyYyzvg7%2Bj8TambUq4DZb%7Ctkp%3ABFBMyKvkp-xj\"\n",
    "\n",
    "    headers = {\"User-Agent\": \"Mozilla/5.0 (Windows NT 10.0; Win64; x64) AppleWebKit/537.36 (KHTML, like Gecko) Chrome/124.0.0.0 Safari/537.36\"}\n",
    "\n",
    "    page = requests.get(URL, headers=headers)\n",
    "\n",
    "    soup1 = BeautifulSoup(page.content, \"html.parser\")\n",
    "\n",
    "    soup2 = BeautifulSoup(soup1.prettify(), \"html.parser\")\n",
    "    \n",
    "    title = soup2.find(class_=\"x-item-title__mainTitle\").get_text(strip=True)\n",
    "\n",
    "    price = soup2.find(class_='x-price-primary').get_text(strip=True)\n",
    "    price = price.strip()[4:]\n",
    "    price = float(price)\n",
    "    \n",
    "    today = datetime.date.today()\n",
    "    \n",
    "    import csv\n",
    "\n",
    "    header = ['Title', 'Price', 'Date']\n",
    "    data = [title, price, today]\n",
    "    \n",
    "    with open('eBayWebScraperDataset.csv', 'a+', newline='', encoding='UTF8') as f:\n",
    "        writer = csv.writer(f)\n",
    "        writer.writerow(data)\n",
    "    \n",
    "    # Send an email to let you know the price has dropped\n",
    "    \n",
    "    #if price < 200:\n",
    "        #send_email()"
   ]
  },
  {
   "cell_type": "code",
   "execution_count": null,
   "metadata": {},
   "outputs": [],
   "source": [
    "while(True):\n",
    "    check_price()\n",
    "    time.sleep(86400) # This checks the price every day"
   ]
  },
  {
   "cell_type": "code",
   "execution_count": 12,
   "metadata": {},
   "outputs": [
    {
     "data": {
      "text/html": [
       "<div>\n",
       "<style scoped>\n",
       "    .dataframe tbody tr th:only-of-type {\n",
       "        vertical-align: middle;\n",
       "    }\n",
       "\n",
       "    .dataframe tbody tr th {\n",
       "        vertical-align: top;\n",
       "    }\n",
       "\n",
       "    .dataframe thead th {\n",
       "        text-align: right;\n",
       "    }\n",
       "</style>\n",
       "<table border=\"1\" class=\"dataframe\">\n",
       "  <thead>\n",
       "    <tr style=\"text-align: right;\">\n",
       "      <th></th>\n",
       "      <th>Title</th>\n",
       "      <th>Price</th>\n",
       "      <th>Date</th>\n",
       "    </tr>\n",
       "  </thead>\n",
       "  <tbody>\n",
       "    <tr>\n",
       "      <th>0</th>\n",
       "      <td>Nintendo Switch 32GB Blue/Red Joy-Con Console ...</td>\n",
       "      <td>189.95</td>\n",
       "      <td>2024-05-10</td>\n",
       "    </tr>\n",
       "    <tr>\n",
       "      <th>1</th>\n",
       "      <td>Nintendo Switch 32GB Blue/Red Joy-Con Console ...</td>\n",
       "      <td>189.95</td>\n",
       "      <td>2024-05-10</td>\n",
       "    </tr>\n",
       "    <tr>\n",
       "      <th>2</th>\n",
       "      <td>Nintendo Switch 32GB Blue/Red Joy-Con Console ...</td>\n",
       "      <td>189.95</td>\n",
       "      <td>2024-05-10</td>\n",
       "    </tr>\n",
       "    <tr>\n",
       "      <th>3</th>\n",
       "      <td>Nintendo Switch 32GB Blue/Red Joy-Con Console ...</td>\n",
       "      <td>189.95</td>\n",
       "      <td>2024-05-10</td>\n",
       "    </tr>\n",
       "  </tbody>\n",
       "</table>\n",
       "</div>"
      ],
      "text/plain": [
       "                                               Title   Price        Date\n",
       "0  Nintendo Switch 32GB Blue/Red Joy-Con Console ...  189.95  2024-05-10\n",
       "1  Nintendo Switch 32GB Blue/Red Joy-Con Console ...  189.95  2024-05-10\n",
       "2  Nintendo Switch 32GB Blue/Red Joy-Con Console ...  189.95  2024-05-10\n",
       "3  Nintendo Switch 32GB Blue/Red Joy-Con Console ...  189.95  2024-05-10"
      ]
     },
     "execution_count": 12,
     "metadata": {},
     "output_type": "execute_result"
    }
   ],
   "source": [
    "import pandas as pd\n",
    "\n",
    "df = pd.read_csv(r'C:\\Users\\LAPTOP\\Downloads\\CollegeFolder\\PythonStudy\\eBayWebScraperDataset.csv')\n",
    "\n",
    "df"
   ]
  },
  {
   "cell_type": "code",
   "execution_count": null,
   "metadata": {},
   "outputs": [],
   "source": []
  },
  {
   "cell_type": "code",
   "execution_count": null,
   "metadata": {},
   "outputs": [],
   "source": []
  }
 ],
 "metadata": {
  "kernelspec": {
   "display_name": "base",
   "language": "python",
   "name": "python3"
  },
  "language_info": {
   "codemirror_mode": {
    "name": "ipython",
    "version": 3
   },
   "file_extension": ".py",
   "mimetype": "text/x-python",
   "name": "python",
   "nbconvert_exporter": "python",
   "pygments_lexer": "ipython3",
   "version": "3.10.10"
  }
 },
 "nbformat": 4,
 "nbformat_minor": 2
}
